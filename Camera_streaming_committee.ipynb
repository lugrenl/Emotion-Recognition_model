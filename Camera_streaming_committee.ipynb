{
 "cells": [
  {
   "cell_type": "markdown",
   "id": "e31563f8",
   "metadata": {},
   "source": [
    "## Импорт библиотек"
   ]
  },
  {
   "cell_type": "code",
   "execution_count": 1,
   "id": "08e6c859",
   "metadata": {},
   "outputs": [
    {
     "name": "stdout",
     "output_type": "stream",
     "text": [
      "2.4.1\n"
     ]
    }
   ],
   "source": [
    "import os\n",
    "import cv2\n",
    "from copy import deepcopy\n",
    "from pathlib import Path\n",
    "import pandas as pd\n",
    "import tensorflow as tf\n",
    "from tensorflow.keras.models import load_model\n",
    "from tensorflow.keras import Model\n",
    "from tensorflow.keras.preprocessing import image\n",
    "from keras_vggface.vggface import VGGFace\n",
    "from keras_vggface import utils\n",
    "import matplotlib.pyplot as plt\n",
    "from pathlib import Path\n",
    "from PIL import Image\n",
    "import numpy as np\n",
    "from statistics import mode\n",
    "\n",
    "physical_devices = tf.config.list_physical_devices('GPU')\n",
    "tf.config.experimental.set_memory_growth(physical_devices[0], True)\n",
    "\n",
    "print(tf.__version__)"
   ]
  },
  {
   "cell_type": "markdown",
   "id": "ef0d64e2",
   "metadata": {},
   "source": [
    "## Загрузка датафрейма с данными"
   ]
  },
  {
   "cell_type": "code",
   "execution_count": null,
   "id": "aacb8559",
   "metadata": {
    "pycharm": {
     "name": "#%%\n"
    }
   },
   "outputs": [],
   "source": [
    "data_folder = Path('./Data')  # root directory\n",
    "\n",
    "df = pd.read_csv(data_folder / 'df_cleared.csv')  # train dataset"
   ]
  },
  {
   "cell_type": "code",
   "execution_count": null,
   "id": "4dffadd1",
   "metadata": {},
   "outputs": [],
   "source": [
    "# Словарь эмоций\n",
    "emotion_mapping = dict(enumerate(df['emotion'].unique()))\n",
    "emotion_mapping"
   ]
  },
  {
   "cell_type": "markdown",
   "id": "bc54a49a",
   "metadata": {},
   "source": [
    "## Preprocessing function"
   ]
  },
  {
   "cell_type": "code",
   "execution_count": null,
   "id": "f7682c3e",
   "metadata": {},
   "outputs": [],
   "source": [
    "def preprocess_vgg(image_):\n",
    "    \n",
    "    \"\"\"image_ - tensor of size (1, H, W, 3)\n",
    "    return: image, with preprocess_input applied (..., version=2) from keras_vggface\"\"\"\n",
    "    \n",
    "    preprocessed_image = utils.preprocess_input(image_, version=2)\n",
    "\n",
    "    return preprocessed_image"
   ]
  },
  {
   "cell_type": "markdown",
   "id": "5e4014e7",
   "metadata": {},
   "source": [
    "## Загрузка моделей"
   ]
  },
  {
   "cell_type": "code",
   "execution_count": null,
   "id": "6066ca3a",
   "metadata": {},
   "outputs": [],
   "source": [
    "class emotion_model:\n",
    "    def __init__(self, config:str):\n",
    "        self.config = config\n",
    "        self.model = tf.keras.models.load_model(self.config)\n",
    "        \n",
    "    def predict_model(self, image, preprocessing_function, preprocess=True):\n",
    "        image = np.expand_dims(image, axis=0)\n",
    "        if preprocess:\n",
    "            image = preprocessing_function(image)\n",
    "        predicts = self.model.predict(image)\n",
    "        emotion = emotion_mapping[np.argmax(predicts)]        \n",
    "        return emotion"
   ]
  },
  {
   "cell_type": "code",
   "execution_count": null,
   "id": "a5d1ed2c",
   "metadata": {},
   "outputs": [],
   "source": [
    "model_1 = emotion_model('./saved_model_resnet50_trial/1')"
   ]
  },
  {
   "cell_type": "code",
   "execution_count": null,
   "id": "df6018ea",
   "metadata": {},
   "outputs": [],
   "source": [
    "model_2 = emotion_model('./saved_model_xception_trial/1')"
   ]
  },
  {
   "cell_type": "code",
   "execution_count": null,
   "id": "6ba93112",
   "metadata": {},
   "outputs": [],
   "source": [
    "model_3 = emotion_model('./saved_model_bit_trial/1')"
   ]
  },
  {
   "cell_type": "code",
   "execution_count": null,
   "id": "30ba899a",
   "metadata": {},
   "outputs": [],
   "source": [
    "model_4 = emotion_model('./saved_model_efficientnetb1_trial/1')"
   ]
  },
  {
   "cell_type": "markdown",
   "id": "879633a6",
   "metadata": {},
   "source": [
    "## Подключение камеры"
   ]
  },
  {
   "cell_type": "code",
   "execution_count": null,
   "id": "b32baa63",
   "metadata": {},
   "outputs": [],
   "source": [
    "cam = cv2.VideoCapture(0)\n",
    "\n",
    "cam.set(cv2.CAP_PROP_FPS, 24)\n",
    "cam.set(cv2.CAP_PROP_FRAME_WIDTH, 640) # ширина кадра -- 640 пикселей\n",
    "cam.set(cv2.CAP_PROP_FRAME_HEIGHT, 480) # высота кадра -- 480 пикселей"
   ]
  },
  {
   "cell_type": "markdown",
   "id": "d8968cb8",
   "metadata": {},
   "source": [
    "## Детектор лиц"
   ]
  },
  {
   "cell_type": "code",
   "execution_count": null,
   "id": "2dfb9066",
   "metadata": {},
   "outputs": [],
   "source": [
    "modelFile = \"./res10_300x300_ssd_iter_140000.caffemodel\"\n",
    "configFile = \"./deploy.prototxt\"\n",
    "detector = cv2.dnn.readNetFromCaffe(configFile, modelFile)"
   ]
  },
  {
   "cell_type": "markdown",
   "id": "40f84caf",
   "metadata": {},
   "source": [
    "## Запуск модели"
   ]
  },
  {
   "cell_type": "code",
   "execution_count": null,
   "id": "86eb649b",
   "metadata": {},
   "outputs": [],
   "source": [
    "while(True):\n",
    "    ret, bgr_frame = cam.read()\n",
    "    rgb_frame = cv2.cvtColor(bgr_frame, cv2.COLOR_BGR2RGB)\n",
    "    faces = cv2.dnn.blobFromImage(image=rgb_frame, scalefactor=1.0, \n",
    "                                  size=(300, 300), \n",
    "                                  mean=(104.0, 177.0, 123.0),\n",
    "                                  swapRB=True)\n",
    "    \n",
    "    bgr_frame_copy = deepcopy(bgr_frame)\n",
    "    frameHeight = rgb_frame.shape[0]\n",
    "    frameWidth = rgb_frame.shape[1]\n",
    "    conf_threshold = 0.8  # порог точности детектора\n",
    "    detector.setInput(faces)\n",
    "    detections = detector.forward()\n",
    "    \n",
    "    bboxes = []\n",
    "\n",
    "    for i in range(detections.shape[2]):\n",
    "        confidence = detections[0, 0, i, 2]\n",
    "        if confidence > conf_threshold:\n",
    "            x1 = int(detections[0, 0, i, 3] * frameWidth)\n",
    "            y1 = int(detections[0, 0, i, 4] * frameHeight)\n",
    "            x2 = int(detections[0, 0, i, 5] * frameWidth)\n",
    "            y2 = int(detections[0, 0, i, 6] * frameHeight)\n",
    "\n",
    "            face_bbox_bgr = bgr_frame[y1:y2, x1:x2]\n",
    "            face_bbox_rgb = cv2.cvtColor(face_bbox_bgr, cv2.COLOR_BGR2RGB)\n",
    "    \n",
    "            img = image.img_to_array(cv2.resize(face_bbox_rgb, dsize=(224, 224), interpolation=cv2.INTER_CUBIC))\n",
    "            \n",
    "            emotion_1 = model_1.predict_model(img, preprocess_vgg)\n",
    "            emotion_2 = model_2.predict_model(img, tf.keras.applications.xception.preprocess_input)\n",
    "            emotion_3 = model_3.predict_model(img, preprocess=False, preprocessing_function=None)\n",
    "            emotion_4 = model_4.predict_model(img, preprocess=False, preprocessing_function=None)\n",
    "            emotion = mode([emotion_1, emotion_2, emotion_3, emotion_3])\n",
    "\n",
    "            cv2.rectangle(bgr_frame_copy, (x1, y1), (x2, y2), (0,255,0), 1)\n",
    "            cv2.putText(bgr_frame_copy, emotion, (x1, y1 - 10), cv2.FONT_HERSHEY_SIMPLEX, 0.9, (0, 255, 0), 2)\n",
    "\n",
    "    cv2.imshow(\"facial emotion recognition\", bgr_frame_copy)\n",
    "\n",
    "    if cv2.waitKey(1) & 0xFF == ord('q'):\n",
    "        break"
   ]
  }
 ],
 "metadata": {
  "kernelspec": {
   "display_name": "Python 3",
   "language": "python",
   "name": "python3"
  },
  "language_info": {
   "codemirror_mode": {
    "name": "ipython",
    "version": 3
   },
   "file_extension": ".py",
   "mimetype": "text/x-python",
   "name": "python",
   "nbconvert_exporter": "python",
   "pygments_lexer": "ipython3",
   "version": "3.8.5"
  }
 },
 "nbformat": 4,
 "nbformat_minor": 5
}
